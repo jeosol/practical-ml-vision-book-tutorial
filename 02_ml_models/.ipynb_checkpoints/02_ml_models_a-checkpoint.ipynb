{
 "cells": [
  {
   "cell_type": "code",
   "execution_count": 21,
   "id": "62d0ac4d",
   "metadata": {},
   "outputs": [],
   "source": [
    "# Notes:\n",
    "# here is a link for a good tutorial to follow later for transfer learning using the flower dataset\n",
    "# https://cloud.google.com/blog/products/gcp/how-to-classify-images-with-tensorflow-using-google-cloud-machine-learning-and-cloud-dataflow"
   ]
  },
  {
   "cell_type": "code",
   "execution_count": 9,
   "id": "cb769378",
   "metadata": {},
   "outputs": [
    {
     "ename": "ModuleNotFoundError",
     "evalue": "No module named 'matplotlib'",
     "output_type": "error",
     "traceback": [
      "\u001b[0;31m---------------------------------------------------------------------------\u001b[0m",
      "\u001b[0;31mModuleNotFoundError\u001b[0m                       Traceback (most recent call last)",
      "Input \u001b[0;32mIn [9]\u001b[0m, in \u001b[0;36m<cell line: 3>\u001b[0;34m()\u001b[0m\n\u001b[1;32m      1\u001b[0m \u001b[38;5;28;01mimport\u001b[39;00m \u001b[38;5;21;01mtensorflow\u001b[39;00m \u001b[38;5;28;01mas\u001b[39;00m \u001b[38;5;21;01mtf\u001b[39;00m\n\u001b[1;32m      2\u001b[0m \u001b[38;5;28;01mimport\u001b[39;00m \u001b[38;5;21;01mnumpy\u001b[39;00m \u001b[38;5;28;01mas\u001b[39;00m \u001b[38;5;21;01mnp\u001b[39;00m\n\u001b[0;32m----> 3\u001b[0m \u001b[38;5;28;01mimport\u001b[39;00m \u001b[38;5;21;01mmatplotlib\u001b[39;00m\u001b[38;5;21;01m.\u001b[39;00m\u001b[38;5;21;01mpyplot\u001b[39;00m \u001b[38;5;28;01mas\u001b[39;00m \u001b[38;5;21;01mplt\u001b[39;00m\n",
      "\u001b[0;31mModuleNotFoundError\u001b[0m: No module named 'matplotlib'"
     ]
    }
   ],
   "source": [
    "import tensorflow as tf\n",
    "import numpy as np\n",
    "import matplotlib.pyplot as plt"
   ]
  },
  {
   "cell_type": "code",
   "execution_count": 14,
   "id": "e8c6c15e",
   "metadata": {},
   "outputs": [],
   "source": [
    "def read_and_decode(filename, reshape_dims):\n",
    "    # 1. Read the file.\n",
    "    img = tf.io.read_file(filename)\n",
    "    # 2. Convert the compressed string to a 3D uint8 tensor.\n",
    "    img = tf.image.decode_jpeg(img, channels=3)\n",
    "    # 3. Convert 3D uint8 to floats in the [0,1] range.\n",
    "    img = tf.image.convert_image_dtype(img, tf.float32)\n",
    "    # 4. Resize the image to the desired size.\n",
    "    return tf.image.resize(img, reshape_dims)\n",
    "\n",
    "def show_image(filename, IMG_HEIGHT=250, IMG_WIDTH=250):\n",
    "    img = read_and_decode(filename, [IMG_HEIGHT, IMG_WIDTH])\n",
    "    plt.show(img.numpy())\n",
    "    "
   ]
  },
  {
   "cell_type": "code",
   "execution_count": 18,
   "id": "2b41e02f",
   "metadata": {},
   "outputs": [],
   "source": [
    "# First do:\n",
    "# gsutil config\n",
    "# Download the flower dataset\n",
    "# gsutil cp gs://cloud-ml-data/img/flower_photos ~/destination-directory/"
   ]
  },
  {
   "cell_type": "code",
   "execution_count": 20,
   "id": "d7457c28",
   "metadata": {},
   "outputs": [
    {
     "ename": "FailedPreconditionError",
     "evalue": "Error executing an HTTP request: libcurl code 77 meaning 'Problem with the SSL CA cert (path? access rights?)', error details: error setting certificate verify locations:  CAfile: /etc/ssl/certs/ca-certificates.crt CApath: none\n\t when reading gs://cloud-ml-data/img/flower_photos/tulips",
     "output_type": "error",
     "traceback": [
      "\u001b[0;31m---------------------------------------------------------------------------\u001b[0m",
      "\u001b[0;31mFailedPreconditionError\u001b[0m                   Traceback (most recent call last)",
      "Input \u001b[0;32mIn [20]\u001b[0m, in \u001b[0;36m<cell line: 1>\u001b[0;34m()\u001b[0m\n\u001b[0;32m----> 1\u001b[0m tulips \u001b[38;5;241m=\u001b[39m \u001b[43mtf\u001b[49m\u001b[38;5;241;43m.\u001b[39;49m\u001b[43mio\u001b[49m\u001b[38;5;241;43m.\u001b[39;49m\u001b[43mgfile\u001b[49m\u001b[38;5;241;43m.\u001b[39;49m\u001b[43mglob\u001b[49m\u001b[43m(\u001b[49m\u001b[38;5;124;43m\"\u001b[39;49m\u001b[38;5;124;43mgs://cloud-ml-data/img/flower_photos/tulips/*.jpg\u001b[39;49m\u001b[38;5;124;43m\"\u001b[39;49m\u001b[43m)\u001b[49m\n",
      "File \u001b[0;32m~/.pyenv/versions/practical-ml-vision-book/lib/python3.9/site-packages/tensorflow/python/lib/io/file_io.py:439\u001b[0m, in \u001b[0;36mget_matching_files_v2\u001b[0;34m(pattern)\u001b[0m\n\u001b[1;32m    385\u001b[0m \u001b[38;5;124mr\u001b[39m\u001b[38;5;124;03m\"\"\"Returns a list of files that match the given pattern(s).\u001b[39;00m\n\u001b[1;32m    386\u001b[0m \n\u001b[1;32m    387\u001b[0m \u001b[38;5;124;03mThe patterns are defined as strings. Supported patterns are defined\u001b[39;00m\n\u001b[0;32m   (...)\u001b[0m\n\u001b[1;32m    433\u001b[0m \u001b[38;5;124;03m  errors.NotFoundError: If pattern to be matched is an invalid directory.\u001b[39;00m\n\u001b[1;32m    434\u001b[0m \u001b[38;5;124;03m\"\"\"\u001b[39;00m\n\u001b[1;32m    435\u001b[0m \u001b[38;5;28;01mif\u001b[39;00m \u001b[38;5;28misinstance\u001b[39m(pattern, six\u001b[38;5;241m.\u001b[39mstring_types):\n\u001b[1;32m    436\u001b[0m   \u001b[38;5;28;01mreturn\u001b[39;00m [\n\u001b[1;32m    437\u001b[0m       \u001b[38;5;66;03m# Convert the filenames to string from bytes.\u001b[39;00m\n\u001b[1;32m    438\u001b[0m       compat\u001b[38;5;241m.\u001b[39mas_str_any(matching_filename)\n\u001b[0;32m--> 439\u001b[0m       \u001b[38;5;28;01mfor\u001b[39;00m matching_filename \u001b[38;5;129;01min\u001b[39;00m \u001b[43m_pywrap_file_io\u001b[49m\u001b[38;5;241;43m.\u001b[39;49m\u001b[43mGetMatchingFiles\u001b[49m\u001b[43m(\u001b[49m\n\u001b[1;32m    440\u001b[0m \u001b[43m          \u001b[49m\u001b[43mcompat\u001b[49m\u001b[38;5;241;43m.\u001b[39;49m\u001b[43mas_bytes\u001b[49m\u001b[43m(\u001b[49m\u001b[43mpattern\u001b[49m\u001b[43m)\u001b[49m\u001b[43m)\u001b[49m\n\u001b[1;32m    441\u001b[0m   ]\n\u001b[1;32m    442\u001b[0m \u001b[38;5;28;01melse\u001b[39;00m:\n\u001b[1;32m    443\u001b[0m   \u001b[38;5;28;01mreturn\u001b[39;00m [\n\u001b[1;32m    444\u001b[0m       \u001b[38;5;66;03m# Convert the filenames to string from bytes.\u001b[39;00m\n\u001b[1;32m    445\u001b[0m       compat\u001b[38;5;241m.\u001b[39mas_str_any(matching_filename)  \u001b[38;5;66;03m# pylint: disable=g-complex-comprehension\u001b[39;00m\n\u001b[0;32m   (...)\u001b[0m\n\u001b[1;32m    448\u001b[0m           compat\u001b[38;5;241m.\u001b[39mas_bytes(single_filename))\n\u001b[1;32m    449\u001b[0m   ]\n",
      "\u001b[0;31mFailedPreconditionError\u001b[0m: Error executing an HTTP request: libcurl code 77 meaning 'Problem with the SSL CA cert (path? access rights?)', error details: error setting certificate verify locations:  CAfile: /etc/ssl/certs/ca-certificates.crt CApath: none\n\t when reading gs://cloud-ml-data/img/flower_photos/tulips"
     ]
    }
   ],
   "source": [
    "tulips = tf.io.gfile.glob(\"gs://cloud-ml-data/img/flower_photos/tulips/*.jpg\")"
   ]
  },
  {
   "cell_type": "code",
   "execution_count": null,
   "id": "5c00e0b5",
   "metadata": {},
   "outputs": [],
   "source": [
    "# view sample file\n",
    "filename = \"gs://cloud-ml-data/img/flower_photos/daisy/754296579_3Oa9aeO18c_n.jpg\"\n",
    "show_image(filename)"
   ]
  },
  {
   "cell_type": "code",
   "execution_count": 5,
   "id": "6359ea76",
   "metadata": {},
   "outputs": [],
   "source": [
    "x = np.array([2.0, 3.0, 1.0, 0.0])"
   ]
  },
  {
   "cell_type": "code",
   "execution_count": 6,
   "id": "9a86880c",
   "metadata": {},
   "outputs": [
    {
     "name": "stderr",
     "output_type": "stream",
     "text": [
      "2022-06-18 22:32:05.210048: I tensorflow/stream_executor/cuda/cuda_gpu_executor.cc:975] successful NUMA node read from SysFS had negative value (-1), but there must be at least one NUMA node, so returning NUMA node zero\n",
      "2022-06-18 22:32:06.692281: W tensorflow/stream_executor/platform/default/dso_loader.cc:64] Could not load dynamic library 'libcudnn.so.8'; dlerror: libcudnn.so.8: cannot open shared object file: No such file or directory; LD_LIBRARY_PATH: /home/onwunalu/codelib/res-sim-utils/libecl/build/lib64:/home/onwunalu/codelib/res-sim-utils/libecl/build/lib64::/home/onwunalu/GPRS/GPRS/GPRS08_WORKING/GPRS08/LIBS:/home/onwunalu/GPRS/GPRS/GPRS08_WORKING/GPRS08/LIBS/SAMG:/usr/local/cuda/bin:/usr/local/cuda/include:/usr/local/lib64:/usr/lib:/usr/lib64:/opt/intel/mkl/lib/intel64:/opt/intel/mkl/lib/mic:/opt/intel/mkl/lib/intel64:/home/onwunalu/GPRS/GPRS/GPRS08_WORKING/GPRS08/LIBS/SAMG:/home/onwunalu/GPRS/GPRS08_WORKING/GPRS08/LIBS:/home/onwunalu/GPRS/GPRS08_WORKING/GPRS08/LIBS/SAMG/ifort64.9.1.041-emt64:/usr/local/cuda-11.2/lib64:/usr/bin/openssl:/home/onwunalu/GPRS/GPRS/GPRS08_WORKING/GPRS08/LIBS:/home/onwunalu/GPRS/GPRS/GPRS08_WORKING/GPRS08/LIBS/SAMG:/usr/local/cuda/bin:/usr/local/cuda/include:/usr/local/lib64:/usr/lib:/usr/lib64:/opt/intel/mkl/lib/intel64:/opt/intel/mkl/lib/mic:/opt/intel/mkl/lib/intel64:/home/onwunalu/GPRS/GPRS/GPRS08_WORKING/GPRS08/LIBS/SAMG:/home/onwunalu/GPRS/GPRS08_WORKING/GPRS08/LIBS:/home/onwunalu/GPRS/GPRS08_WORKING/GPRS08/LIBS/SAMG/ifort64.9.1.041-emt64:/usr/local/cuda-11.2/lib64:/usr/bin/openssl\n",
      "2022-06-18 22:32:06.692298: W tensorflow/core/common_runtime/gpu/gpu_device.cc:1850] Cannot dlopen some GPU libraries. Please make sure the missing libraries mentioned above are installed properly if you would like to use GPU. Follow the guide at https://www.tensorflow.org/install/gpu for how to download and setup the required libraries for your platform.\n",
      "Skipping registering GPU devices...\n",
      "2022-06-18 22:32:06.692848: I tensorflow/core/platform/cpu_feature_guard.cc:193] This TensorFlow binary is optimized with oneAPI Deep Neural Network Library (oneDNN) to use the following CPU instructions in performance-critical operations:  AVX2 FMA\n",
      "To enable them in other operations, rebuild TensorFlow with the appropriate compiler flags.\n"
     ]
    }
   ],
   "source": [
    "tx = tf.convert_to_tensor(x, dtype=tf.float32)"
   ]
  },
  {
   "cell_type": "code",
   "execution_count": 7,
   "id": "dd4e32ab",
   "metadata": {},
   "outputs": [
    {
     "data": {
      "text/plain": [
       "tensorflow.python.framework.ops.EagerTensor"
      ]
     },
     "execution_count": 7,
     "metadata": {},
     "output_type": "execute_result"
    }
   ],
   "source": [
    "type(tx)"
   ]
  },
  {
   "cell_type": "code",
   "execution_count": 8,
   "id": "23e8c074",
   "metadata": {},
   "outputs": [
    {
     "data": {
      "text/plain": [
       "numpy.ndarray"
      ]
     },
     "execution_count": 8,
     "metadata": {},
     "output_type": "execute_result"
    }
   ],
   "source": [
    "type(x)"
   ]
  },
  {
   "cell_type": "code",
   "execution_count": null,
   "id": "976e46bc",
   "metadata": {},
   "outputs": [],
   "source": [
    "x = x"
   ]
  }
 ],
 "metadata": {
  "kernelspec": {
   "display_name": "practical-ml-vision-book",
   "language": "python",
   "name": "practical-ml-vision-book"
  },
  "language_info": {
   "codemirror_mode": {
    "name": "ipython",
    "version": 3
   },
   "file_extension": ".py",
   "mimetype": "text/x-python",
   "name": "python",
   "nbconvert_exporter": "python",
   "pygments_lexer": "ipython3",
   "version": "3.9.0"
  }
 },
 "nbformat": 4,
 "nbformat_minor": 5
}
